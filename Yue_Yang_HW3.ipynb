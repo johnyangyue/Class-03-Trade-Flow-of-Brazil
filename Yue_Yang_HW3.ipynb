{
 "cells": [
  {
   "cell_type": "markdown",
   "metadata": {},
   "source": [
    "# Homework 3 (Yang Yue)"
   ]
  },
  {
   "cell_type": "code",
   "execution_count": 1,
   "metadata": {
    "scrolled": true
   },
   "outputs": [],
   "source": [
    "import glob\n",
    "import json\n",
    "import dask\n",
    "import geopandas\n",
    "import itertools\n",
    "import econtools\n",
    "import pandas as pd\n",
    "import numpy as np\n",
    "import dask.dataframe as dd\n",
    "import matplotlib.pyplot as plt\n",
    "import multiprocess as mp\n",
    "import econtools.metrics as mt\n",
    " \n",
    "from functools import reduce\n",
    "from math import radians, cos, sin, asin, sqrt"
   ]
  },
  {
   "cell_type": "code",
   "execution_count": 2,
   "metadata": {
    "scrolled": true
   },
   "outputs": [
    {
     "data": {
      "text/html": [
       "<table style=\"border: 2px solid white;\">\n",
       "<tr>\n",
       "<td style=\"vertical-align: top; border: 0px solid white\">\n",
       "<h3 style=\"text-align: left;\">Client</h3>\n",
       "<ul style=\"text-align: left; list-style: none; margin: 0; padding: 0;\">\n",
       "  <li><b>Scheduler: </b>tcp://127.0.0.1:63987</li>\n",
       "  <li><b>Dashboard: </b><a href='http://127.0.0.1:8787/status' target='_blank'>http://127.0.0.1:8787/status</a></li>\n",
       "</ul>\n",
       "</td>\n",
       "<td style=\"vertical-align: top; border: 0px solid white\">\n",
       "<h3 style=\"text-align: left;\">Cluster</h3>\n",
       "<ul style=\"text-align: left; list-style:none; margin: 0; padding: 0;\">\n",
       "  <li><b>Workers: </b>10</li>\n",
       "  <li><b>Cores: </b>20</li>\n",
       "  <li><b>Memory: </b>34.27 GB</li>\n",
       "</ul>\n",
       "</td>\n",
       "</tr>\n",
       "</table>"
      ],
      "text/plain": [
       "<Client: 'tcp://127.0.0.1:63987' processes=10 threads=20, memory=34.27 GB>"
      ]
     },
     "execution_count": 2,
     "metadata": {},
     "output_type": "execute_result"
    }
   ],
   "source": [
    "from dask.distributed import Client,progress\n",
    "client = Client(threads_per_worker=2,n_workers=10)\n",
    "client"
   ]
  },
  {
   "cell_type": "markdown",
   "metadata": {},
   "source": [
    "## Question 1"
   ]
  },
  {
   "cell_type": "code",
   "execution_count": 3,
   "metadata": {
    "scrolled": true
   },
   "outputs": [],
   "source": [
    "dir = 'C:/Users/Yang Yue/Documents/GitHub/ACE_592_Clone/Homeworks/Homework 3/'"
   ]
  },
  {
   "cell_type": "code",
   "execution_count": 5,
   "metadata": {
    "scrolled": true
   },
   "outputs": [
    {
     "data": {
      "text/plain": [
       "['C:/Users/Yang Yue/Documents/GitHub/ACE_592_Clone/Homeworks/Homework 3\\\\BACI_HS12_Y2012_V202001.csv',\n",
       " 'C:/Users/Yang Yue/Documents/GitHub/ACE_592_Clone/Homeworks/Homework 3\\\\BACI_HS12_Y2013_V202001.csv',\n",
       " 'C:/Users/Yang Yue/Documents/GitHub/ACE_592_Clone/Homeworks/Homework 3\\\\BACI_HS12_Y2014_V202001.csv',\n",
       " 'C:/Users/Yang Yue/Documents/GitHub/ACE_592_Clone/Homeworks/Homework 3\\\\BACI_HS12_Y2015_V202001.csv',\n",
       " 'C:/Users/Yang Yue/Documents/GitHub/ACE_592_Clone/Homeworks/Homework 3\\\\BACI_HS12_Y2016_V202001.csv',\n",
       " 'C:/Users/Yang Yue/Documents/GitHub/ACE_592_Clone/Homeworks/Homework 3\\\\BACI_HS12_Y2017_V202001.csv',\n",
       " 'C:/Users/Yang Yue/Documents/GitHub/ACE_592_Clone/Homeworks/Homework 3\\\\BACI_HS12_Y2018_V202001.csv']"
      ]
     },
     "execution_count": 5,
     "metadata": {},
     "output_type": "execute_result"
    }
   ],
   "source": [
    "df = dd.read_csv(dir+'BACI_HS12_Y*.csv')\n",
    "glob.glob(dir+'BACI_HS12_Y*.csv')"
   ]
  },
  {
   "cell_type": "markdown",
   "metadata": {},
   "source": [
    "## Question 2"
   ]
  },
  {
   "cell_type": "markdown",
   "metadata": {},
   "source": [
    "### Part a"
   ]
  },
  {
   "cell_type": "code",
   "execution_count": 7,
   "metadata": {
    "scrolled": true
   },
   "outputs": [],
   "source": [
    "#return the number of unique importer for each exporter\n",
    "df_partner12 = df.loc[df.t==2012].groupby('i')['j'].nunique().compute()\n",
    "\n",
    "#return the country codes of the top 10 and bottom 10 exporters\n",
    "df_top10 = df_partner12.sort_values(ascending=False).head(10)\n",
    "df_bot10 = df_partner12.sort_values().head(10)\n",
    "\n",
    "#construct a dictionary that maps country code to country name\n",
    "df_code = pd.read_csv(dir+'country_codes_V202001.csv',encoding='ISO-8859-1')\n",
    "code_dict = pd.Series(df_code.country_name_full.values,index=df_code.country_code).to_dict()\n",
    "\n",
    "#apply the dictionary to the previous top 10 and bottom 10 frames \n",
    "df_top10 = df_top10.reset_index()\n",
    "df_top10.rename(columns={'i':'Country Code','j':'Number of Partners'},inplace=True)\n",
    "df_top10['Country Name'] = df_top10['Country Code'].map(code_dict)\n",
    "\n",
    "df_bot10 = df_bot10.reset_index()\n",
    "df_bot10.rename(columns={'i':'Country Code','j':'Number of Partners'},inplace=True)\n",
    "df_bot10['Country Name'] = df_bot10['Country Code'].map(code_dict)"
   ]
  },
  {
   "cell_type": "markdown",
   "metadata": {},
   "source": [
    "Top 10 countries with the most trading partners"
   ]
  },
  {
   "cell_type": "code",
   "execution_count": 8,
   "metadata": {
    "scrolled": true
   },
   "outputs": [
    {
     "data": {
      "text/html": [
       "<div>\n",
       "<style scoped>\n",
       "    .dataframe tbody tr th:only-of-type {\n",
       "        vertical-align: middle;\n",
       "    }\n",
       "\n",
       "    .dataframe tbody tr th {\n",
       "        vertical-align: top;\n",
       "    }\n",
       "\n",
       "    .dataframe thead th {\n",
       "        text-align: right;\n",
       "    }\n",
       "</style>\n",
       "<table border=\"1\" class=\"dataframe\">\n",
       "  <thead>\n",
       "    <tr style=\"text-align: right;\">\n",
       "      <th></th>\n",
       "      <th>Country Code</th>\n",
       "      <th>Number of Partners</th>\n",
       "      <th>Country Name</th>\n",
       "    </tr>\n",
       "  </thead>\n",
       "  <tbody>\n",
       "    <tr>\n",
       "      <th>0</th>\n",
       "      <td>842</td>\n",
       "      <td>214</td>\n",
       "      <td>USA, Puerto Rico and US Virgin Islands</td>\n",
       "    </tr>\n",
       "    <tr>\n",
       "      <th>1</th>\n",
       "      <td>528</td>\n",
       "      <td>213</td>\n",
       "      <td>Netherlands</td>\n",
       "    </tr>\n",
       "    <tr>\n",
       "      <th>2</th>\n",
       "      <td>58</td>\n",
       "      <td>212</td>\n",
       "      <td>Belgium-Luxembourg</td>\n",
       "    </tr>\n",
       "    <tr>\n",
       "      <th>3</th>\n",
       "      <td>826</td>\n",
       "      <td>212</td>\n",
       "      <td>United Kingdom</td>\n",
       "    </tr>\n",
       "    <tr>\n",
       "      <th>4</th>\n",
       "      <td>276</td>\n",
       "      <td>212</td>\n",
       "      <td>Germany</td>\n",
       "    </tr>\n",
       "    <tr>\n",
       "      <th>5</th>\n",
       "      <td>410</td>\n",
       "      <td>211</td>\n",
       "      <td>Republic of Korea</td>\n",
       "    </tr>\n",
       "    <tr>\n",
       "      <th>6</th>\n",
       "      <td>381</td>\n",
       "      <td>210</td>\n",
       "      <td>Italy</td>\n",
       "    </tr>\n",
       "    <tr>\n",
       "      <th>7</th>\n",
       "      <td>757</td>\n",
       "      <td>210</td>\n",
       "      <td>Switzerland, Liechtenstein</td>\n",
       "    </tr>\n",
       "    <tr>\n",
       "      <th>8</th>\n",
       "      <td>251</td>\n",
       "      <td>209</td>\n",
       "      <td>France, Monaco</td>\n",
       "    </tr>\n",
       "    <tr>\n",
       "      <th>9</th>\n",
       "      <td>711</td>\n",
       "      <td>208</td>\n",
       "      <td>Southern African Customs Union</td>\n",
       "    </tr>\n",
       "  </tbody>\n",
       "</table>\n",
       "</div>"
      ],
      "text/plain": [
       "   Country Code  Number of Partners                            Country Name\n",
       "0           842                 214  USA, Puerto Rico and US Virgin Islands\n",
       "1           528                 213                             Netherlands\n",
       "2            58                 212                      Belgium-Luxembourg\n",
       "3           826                 212                          United Kingdom\n",
       "4           276                 212                                 Germany\n",
       "5           410                 211                       Republic of Korea\n",
       "6           381                 210                                   Italy\n",
       "7           757                 210              Switzerland, Liechtenstein\n",
       "8           251                 209                          France, Monaco\n",
       "9           711                 208          Southern African Customs Union"
      ]
     },
     "execution_count": 8,
     "metadata": {},
     "output_type": "execute_result"
    }
   ],
   "source": [
    "df_top10"
   ]
  },
  {
   "cell_type": "markdown",
   "metadata": {},
   "source": [
    "Bottom 10 countries with the most tranding partners"
   ]
  },
  {
   "cell_type": "code",
   "execution_count": 9,
   "metadata": {
    "scrolled": true
   },
   "outputs": [
    {
     "data": {
      "text/html": [
       "<div>\n",
       "<style scoped>\n",
       "    .dataframe tbody tr th:only-of-type {\n",
       "        vertical-align: middle;\n",
       "    }\n",
       "\n",
       "    .dataframe tbody tr th {\n",
       "        vertical-align: top;\n",
       "    }\n",
       "\n",
       "    .dataframe thead th {\n",
       "        text-align: right;\n",
       "    }\n",
       "</style>\n",
       "<table border=\"1\" class=\"dataframe\">\n",
       "  <thead>\n",
       "    <tr style=\"text-align: right;\">\n",
       "      <th></th>\n",
       "      <th>Country Code</th>\n",
       "      <th>Number of Partners</th>\n",
       "      <th>Country Name</th>\n",
       "    </tr>\n",
       "  </thead>\n",
       "  <tbody>\n",
       "    <tr>\n",
       "      <th>0</th>\n",
       "      <td>535</td>\n",
       "      <td>1</td>\n",
       "      <td>Bonaire, Saint Eustatius and Saba</td>\n",
       "    </tr>\n",
       "    <tr>\n",
       "      <th>1</th>\n",
       "      <td>534</td>\n",
       "      <td>4</td>\n",
       "      <td>Saint Maarten (Dutch part)</td>\n",
       "    </tr>\n",
       "    <tr>\n",
       "      <th>2</th>\n",
       "      <td>728</td>\n",
       "      <td>9</td>\n",
       "      <td>South Sudan</td>\n",
       "    </tr>\n",
       "    <tr>\n",
       "      <th>3</th>\n",
       "      <td>666</td>\n",
       "      <td>14</td>\n",
       "      <td>Saint Pierre and Miquelon</td>\n",
       "    </tr>\n",
       "    <tr>\n",
       "      <th>4</th>\n",
       "      <td>585</td>\n",
       "      <td>16</td>\n",
       "      <td>Palau</td>\n",
       "    </tr>\n",
       "    <tr>\n",
       "      <th>5</th>\n",
       "      <td>574</td>\n",
       "      <td>18</td>\n",
       "      <td>Norfolk Islands</td>\n",
       "    </tr>\n",
       "    <tr>\n",
       "      <th>6</th>\n",
       "      <td>612</td>\n",
       "      <td>19</td>\n",
       "      <td>Pitcairn</td>\n",
       "    </tr>\n",
       "    <tr>\n",
       "      <th>7</th>\n",
       "      <td>162</td>\n",
       "      <td>22</td>\n",
       "      <td>Christmas Islands</td>\n",
       "    </tr>\n",
       "    <tr>\n",
       "      <th>8</th>\n",
       "      <td>580</td>\n",
       "      <td>23</td>\n",
       "      <td>Northern Mariana Islands</td>\n",
       "    </tr>\n",
       "    <tr>\n",
       "      <th>9</th>\n",
       "      <td>260</td>\n",
       "      <td>23</td>\n",
       "      <td>French South Antarctic Territories</td>\n",
       "    </tr>\n",
       "  </tbody>\n",
       "</table>\n",
       "</div>"
      ],
      "text/plain": [
       "   Country Code  Number of Partners                        Country Name\n",
       "0           535                   1   Bonaire, Saint Eustatius and Saba\n",
       "1           534                   4          Saint Maarten (Dutch part)\n",
       "2           728                   9                         South Sudan\n",
       "3           666                  14           Saint Pierre and Miquelon\n",
       "4           585                  16                               Palau\n",
       "5           574                  18                     Norfolk Islands\n",
       "6           612                  19                            Pitcairn\n",
       "7           162                  22                   Christmas Islands\n",
       "8           580                  23            Northern Mariana Islands\n",
       "9           260                  23  French South Antarctic Territories"
      ]
     },
     "execution_count": 9,
     "metadata": {},
     "output_type": "execute_result"
    }
   ],
   "source": [
    "df_bot10"
   ]
  },
  {
   "cell_type": "markdown",
   "metadata": {},
   "source": [
    "### Part b"
   ]
  },
  {
   "cell_type": "code",
   "execution_count": 10,
   "metadata": {
    "scrolled": true
   },
   "outputs": [],
   "source": [
    "#construct a dictionary that maps the 2 digit product codes to categories\n",
    "category_dict ={}\n",
    "\n",
    "for i in range(1,6):\n",
    "    extend = {i:'Animal & Animal Products'}\n",
    "    category_dict.update(extend)\n",
    "    \n",
    "for i in range(6,16):\n",
    "    extend = {i:'Vegetable Products'}\n",
    "    category_dict.update(extend)\n",
    "    \n",
    "for i in range(16,25):\n",
    "    extend = {i:'Foodstuffs'}\n",
    "    category_dict.update(extend)\n",
    "    \n",
    "for i in range(25,28):\n",
    "    extend = {i:'Mineral Products'}\n",
    "    category_dict.update(extend)\n",
    "\n",
    "for i in range(28,39):\n",
    "    extend = {i:'Chemical & Allied Industries'}\n",
    "    category_dict.update(extend)\n",
    "\n",
    "for i in range(39,41):\n",
    "    extend = {i:'Plastics / Rubbers'}\n",
    "    category_dict.update(extend)\n",
    "    \n",
    "for i in range(41,44):\n",
    "    extend = {i:'Raw Hides, Skins, Leather, & Furs'}\n",
    "    category_dict.update(extend)\n",
    "\n",
    "for i in range(44,50):\n",
    "    extend = {i:'Wood & Wood Products'}\n",
    "    category_dict.update(extend)\n",
    "    \n",
    "for i in range(50,64):\n",
    "    extend = {i:'Textiles'}\n",
    "    category_dict.update(extend)\n",
    "\n",
    "for i in range(64,68):\n",
    "    extend = {i:'Footwear / Headgear'}\n",
    "    category_dict.update(extend)\n",
    "    \n",
    "for i in range(68,72):\n",
    "    extend = {i:'Stone / Glass'}\n",
    "    category_dict.update(extend)\n",
    "    \n",
    "for i in range(72,84):\n",
    "    extend = {i:'Metals'}\n",
    "    category_dict.update(extend)\n",
    "    \n",
    "for i in range(84,86):\n",
    "    extend = {i:'Machinery / Electrical'}\n",
    "    category_dict.update(extend)\n",
    "    \n",
    "for i in range(86,90):\n",
    "    extend = {i:'Transportation'}\n",
    "    category_dict.update(extend)\n",
    "\n",
    "for i in range(90,98):\n",
    "    extend = {i:'Miscellaneous'}\n",
    "    category_dict.update(extend)"
   ]
  },
  {
   "cell_type": "code",
   "execution_count": 11,
   "metadata": {
    "scrolled": true
   },
   "outputs": [
    {
     "data": {
      "text/plain": [
       "Text(0.5, 1.0, 'Trade Volume by Category from 2012 to 2018')"
      ]
     },
     "execution_count": 11,
     "metadata": {},
     "output_type": "execute_result"
    },
    {
     "data": {
      "image/png": "[encoded data removed]",
      "text/plain": [
       "<Figure size 1440x360 with 1 Axes>"
      ]
     },
     "metadata": {
      "needs_background": "light"
     },
     "output_type": "display_data"
    }
   ],
   "source": [
    "#create a new column with 2 digit product codes derived from the 6 digit codes\n",
    "df['Category Code'] = df['k'].apply(lambda x: int(str(x)[0:2]) if len(str(x))==6 else int(str(x)[0:1]),meta=('k','int64'))\n",
    "\n",
    "#apply the product category dictionary to the newly created column\n",
    "df['Category'] = df['Category Code'].map(category_dict)\n",
    "\n",
    "#obtain the trade volume of each category in each year\n",
    "df_category_value12 = df.loc[df.t==2012].groupby('Category')['v'].sum().compute()\n",
    "df_category_value13 = df.loc[df.t==2013].groupby('Category')['v'].sum().compute()\n",
    "df_category_value14 = df.loc[df.t==2014].groupby('Category')['v'].sum().compute()\n",
    "df_category_value15 = df.loc[df.t==2015].groupby('Category')['v'].sum().compute()\n",
    "df_category_value16 = df.loc[df.t==2016].groupby('Category')['v'].sum().compute()\n",
    "df_category_value17 = df.loc[df.t==2017].groupby('Category')['v'].sum().compute()\n",
    "df_category_value18 = df.loc[df.t==2018].groupby('Category')['v'].sum().compute()\n",
    "\n",
    "#create a new dataframe that joins the above frames\n",
    "series_list = [df_category_value12,df_category_value13,df_category_value14,\n",
    "               df_category_value15,df_category_value16,df_category_value17,\n",
    "               df_category_value18]\n",
    "\n",
    "years = [2012,2013,2014,2015,2016,2017,2018]\n",
    "\n",
    "df_list = []\n",
    "\n",
    "for frame,year in zip(series_list,years):\n",
    "    frame = frame.to_frame()\n",
    "    frame.rename(columns={'v':'Trade Volume'+' '+str(year)},inplace=True)\n",
    "    df_list.append(frame)\n",
    "    \n",
    "df_category_value = reduce(lambda left,right: pd.merge(left,right,on='Category'),df_list)\n",
    "\n",
    "#plot the trade volume for each category for each year\n",
    "f,a = plt.subplots(figsize=(20,5))\n",
    "df_category_value.T.plot(ax=a,kind='bar')\n",
    "plt.ylabel('Value in Thousands Current USD')\n",
    "plt.legend(bbox_to_anchor=(1.05,1.0),loc='upper left')\n",
    "plt.tight_layout()\n",
    "\n",
    "plt.title('Trade Volume by Category from 2012 to 2018')"
   ]
  },
  {
   "cell_type": "code",
   "execution_count": 15,
   "metadata": {
    "scrolled": false
   },
   "outputs": [
    {
     "data": {
      "text/plain": [
       "Text(0.5, 1.0, 'Total Trade Volume by Category from 2012 to 2018')"
      ]
     },
     "execution_count": 15,
     "metadata": {},
     "output_type": "execute_result"
    },
    {
     "data": {
      "image/png": "[encoded data removed]",
      "text/plain": [
       "<Figure size 720x360 with 1 Axes>"
      ]
     },
     "metadata": {
      "needs_background": "light"
     },
     "output_type": "display_data"
    }
   ],
   "source": [
    "#calculate and plot the total trade volume for each category from 2012-2018\n",
    "df_category_value_sum = df_category_value\n",
    "df_category_value_sum['Total Volume'] = df_category_value_sum.sum(axis=1)\n",
    "df_category_value_sum = df_category_value_sum.sort_values(by=['Total Volume'],ascending=False)\n",
    "\n",
    "f,a = plt.subplots(figsize=(10,5))\n",
    "df_category_value_sum['Total Volume'].T.plot(ax=a,kind='bar')\n",
    "plt.ylabel('Value in Thousands Current USD')\n",
    "plt.tight_layout()\n",
    "\n",
    "plt.title('Total Trade Volume by Category from 2012 to 2018')"
   ]
  },
  {
   "cell_type": "markdown",
   "metadata": {},
   "source": [
    "## Question 3"
   ]
  },
  {
   "cell_type": "markdown",
   "metadata": {},
   "source": [
    "### Part a"
   ]
  },
  {
   "cell_type": "code",
   "execution_count": 26,
   "metadata": {
    "scrolled": true
   },
   "outputs": [
    {
     "data": {
      "text/html": [
       "<div>\n",
       "<style scoped>\n",
       "    .dataframe tbody tr th:only-of-type {\n",
       "        vertical-align: middle;\n",
       "    }\n",
       "\n",
       "    .dataframe tbody tr th {\n",
       "        vertical-align: top;\n",
       "    }\n",
       "\n",
       "    .dataframe thead th {\n",
       "        text-align: right;\n",
       "    }\n",
       "</style>\n",
       "<table border=\"1\" class=\"dataframe\">\n",
       "  <thead>\n",
       "    <tr style=\"text-align: right;\">\n",
       "      <th></th>\n",
       "      <th>k</th>\n",
       "      <th>v</th>\n",
       "      <th>Product Description</th>\n",
       "    </tr>\n",
       "  </thead>\n",
       "  <tbody>\n",
       "    <tr>\n",
       "      <th>0</th>\n",
       "      <td>260111</td>\n",
       "      <td>2.497592e+07</td>\n",
       "      <td>Iron ores and concentrates: non-agglomerated</td>\n",
       "    </tr>\n",
       "    <tr>\n",
       "      <th>1</th>\n",
       "      <td>270900</td>\n",
       "      <td>2.086092e+07</td>\n",
       "      <td>Oils: petroleum oils and oils obtained from bi...</td>\n",
       "    </tr>\n",
       "    <tr>\n",
       "      <th>2</th>\n",
       "      <td>120190</td>\n",
       "      <td>1.741984e+07</td>\n",
       "      <td>Soya beans: other than seed, whether or not br...</td>\n",
       "    </tr>\n",
       "    <tr>\n",
       "      <th>3</th>\n",
       "      <td>170114</td>\n",
       "      <td>9.870907e+06</td>\n",
       "      <td>Sugars: cane sugar, raw, in solid form, other ...</td>\n",
       "    </tr>\n",
       "    <tr>\n",
       "      <th>4</th>\n",
       "      <td>260112</td>\n",
       "      <td>7.571141e+06</td>\n",
       "      <td>Iron ores and concentrates: agglomerated (excl...</td>\n",
       "    </tr>\n",
       "    <tr>\n",
       "      <th>5</th>\n",
       "      <td>230400</td>\n",
       "      <td>6.797181e+06</td>\n",
       "      <td>Oil-cake and other solid residues: whether or ...</td>\n",
       "    </tr>\n",
       "    <tr>\n",
       "      <th>6</th>\n",
       "      <td>90111</td>\n",
       "      <td>6.025826e+06</td>\n",
       "      <td>Coffee: not roasted or decaffeinated</td>\n",
       "    </tr>\n",
       "    <tr>\n",
       "      <th>7</th>\n",
       "      <td>271000</td>\n",
       "      <td>5.525909e+06</td>\n",
       "      <td>Petroleum oils and oils from bituminous minera...</td>\n",
       "    </tr>\n",
       "    <tr>\n",
       "      <th>8</th>\n",
       "      <td>100590</td>\n",
       "      <td>5.187145e+06</td>\n",
       "      <td>Cereals: maize (corn), other than seed</td>\n",
       "    </tr>\n",
       "    <tr>\n",
       "      <th>9</th>\n",
       "      <td>470329</td>\n",
       "      <td>4.651875e+06</td>\n",
       "      <td>Wood pulp: chemical wood pulp, soda or sulphat...</td>\n",
       "    </tr>\n",
       "  </tbody>\n",
       "</table>\n",
       "</div>"
      ],
      "text/plain": [
       "        k             v                                Product Description\n",
       "0  260111  2.497592e+07       Iron ores and concentrates: non-agglomerated\n",
       "1  270900  2.086092e+07  Oils: petroleum oils and oils obtained from bi...\n",
       "2  120190  1.741984e+07  Soya beans: other than seed, whether or not br...\n",
       "3  170114  9.870907e+06  Sugars: cane sugar, raw, in solid form, other ...\n",
       "4  260112  7.571141e+06  Iron ores and concentrates: agglomerated (excl...\n",
       "5  230400  6.797181e+06  Oil-cake and other solid residues: whether or ...\n",
       "6   90111  6.025826e+06               Coffee: not roasted or decaffeinated\n",
       "7  271000  5.525909e+06  Petroleum oils and oils from bituminous minera...\n",
       "8  100590  5.187145e+06             Cereals: maize (corn), other than seed\n",
       "9  470329  4.651875e+06  Wood pulp: chemical wood pulp, soda or sulphat..."
      ]
     },
     "execution_count": 26,
     "metadata": {},
     "output_type": "execute_result"
    }
   ],
   "source": [
    "#construct a dictionary that maps product codes to description\n",
    "df_pcode = pd.read_csv(dir+'product_codes_HS12_V202001.csv')\n",
    "pcode_dict = pd.Series(df_pcode.description.values,index=df_pcode.code).to_dict()\n",
    "\n",
    "#apply the dictionary to the brazilian data and get the top 10 products\n",
    "df_brazil = df.loc[df.i==76].compute()\n",
    "df_brazil_12 = df_brazil.loc[df_brazil.t==2012]\n",
    "\"\"\"same product multiples importers\"\"\"\n",
    "df_brazil_12 = df_brazil_12.groupby('k')['v'].sum()\n",
    "df_brazil_12 = df_brazil_12.to_frame()\n",
    "df_brazil_12 = df_brazil_12.sort_values(by=['v'],ascending=False)\n",
    "df_brazil_12 = df_brazil_12.reset_index()\n",
    "df_brazil_12['Product Description'] = df_brazil_12['k'].map(pcode_dict)\n",
    "df_brazil_12.head(10)"
   ]
  },
  {
   "cell_type": "markdown",
   "metadata": {},
   "source": [
    "### Part b"
   ]
  },
  {
   "cell_type": "code",
   "execution_count": 54,
   "metadata": {
    "scrolled": true
   },
   "outputs": [
    {
     "data": {
      "text/html": [
       "<div>\n",
       "<style scoped>\n",
       "    .dataframe tbody tr th:only-of-type {\n",
       "        vertical-align: middle;\n",
       "    }\n",
       "\n",
       "    .dataframe tbody tr th {\n",
       "        vertical-align: top;\n",
       "    }\n",
       "\n",
       "    .dataframe thead th {\n",
       "        text-align: right;\n",
       "    }\n",
       "</style>\n",
       "<table border=\"1\" class=\"dataframe\">\n",
       "  <thead>\n",
       "    <tr style=\"text-align: right;\">\n",
       "      <th></th>\n",
       "      <th>k</th>\n",
       "      <th>Total Value</th>\n",
       "      <th>Product Description</th>\n",
       "    </tr>\n",
       "  </thead>\n",
       "  <tbody>\n",
       "    <tr>\n",
       "      <th>498</th>\n",
       "      <td>120190</td>\n",
       "      <td>1.634124e+08</td>\n",
       "      <td>Soya beans: other than seed, whether or not br...</td>\n",
       "    </tr>\n",
       "    <tr>\n",
       "      <th>869</th>\n",
       "      <td>260111</td>\n",
       "      <td>1.311914e+08</td>\n",
       "      <td>Iron ores and concentrates: non-agglomerated</td>\n",
       "    </tr>\n",
       "    <tr>\n",
       "      <th>918</th>\n",
       "      <td>270900</td>\n",
       "      <td>1.156269e+08</td>\n",
       "      <td>Oils: petroleum oils and oils obtained from bi...</td>\n",
       "    </tr>\n",
       "    <tr>\n",
       "      <th>638</th>\n",
       "      <td>170114</td>\n",
       "      <td>5.542528e+07</td>\n",
       "      <td>Sugars: cane sugar, raw, in solid form, other ...</td>\n",
       "    </tr>\n",
       "    <tr>\n",
       "      <th>781</th>\n",
       "      <td>230400</td>\n",
       "      <td>4.432771e+07</td>\n",
       "      <td>Oil-cake and other solid residues: whether or ...</td>\n",
       "    </tr>\n",
       "    <tr>\n",
       "      <th>2035</th>\n",
       "      <td>470329</td>\n",
       "      <td>4.089617e+07</td>\n",
       "      <td>Wood pulp: chemical wood pulp, soda or sulphat...</td>\n",
       "    </tr>\n",
       "    <tr>\n",
       "      <th>409</th>\n",
       "      <td>90111</td>\n",
       "      <td>3.693469e+07</td>\n",
       "      <td>Coffee: not roasted or decaffeinated</td>\n",
       "    </tr>\n",
       "    <tr>\n",
       "      <th>457</th>\n",
       "      <td>100590</td>\n",
       "      <td>3.295571e+07</td>\n",
       "      <td>Cereals: maize (corn), other than seed</td>\n",
       "    </tr>\n",
       "    <tr>\n",
       "      <th>870</th>\n",
       "      <td>260112</td>\n",
       "      <td>3.287332e+07</td>\n",
       "      <td>Iron ores and concentrates: agglomerated (excl...</td>\n",
       "    </tr>\n",
       "    <tr>\n",
       "      <th>62</th>\n",
       "      <td>20714</td>\n",
       "      <td>3.004127e+07</td>\n",
       "      <td>Meat and edible offal: of fowls of the species...</td>\n",
       "    </tr>\n",
       "  </tbody>\n",
       "</table>\n",
       "</div>"
      ],
      "text/plain": [
       "           k   Total Value                                Product Description\n",
       "498   120190  1.634124e+08  Soya beans: other than seed, whether or not br...\n",
       "869   260111  1.311914e+08       Iron ores and concentrates: non-agglomerated\n",
       "918   270900  1.156269e+08  Oils: petroleum oils and oils obtained from bi...\n",
       "638   170114  5.542528e+07  Sugars: cane sugar, raw, in solid form, other ...\n",
       "781   230400  4.432771e+07  Oil-cake and other solid residues: whether or ...\n",
       "2035  470329  4.089617e+07  Wood pulp: chemical wood pulp, soda or sulphat...\n",
       "409    90111  3.693469e+07               Coffee: not roasted or decaffeinated\n",
       "457   100590  3.295571e+07             Cereals: maize (corn), other than seed\n",
       "870   260112  3.287332e+07  Iron ores and concentrates: agglomerated (excl...\n",
       "62     20714  3.004127e+07  Meat and edible offal: of fowls of the species..."
      ]
     },
     "execution_count": 54,
     "metadata": {},
     "output_type": "execute_result"
    }
   ],
   "source": [
    "#top 10 goods in terms of value\n",
    "df_brazil_v = df_brazil.groupby('k')['v'].sum()\n",
    "df_brazil_v = pd.DataFrame(df_brazil_v)\n",
    "df_brazil_v.rename(columns={'v':'Total Value'},inplace=True)\n",
    "df_brazil_v.reset_index(inplace=True)\n",
    "df_brazil_v['Product Description'] = df_brazil_v['k'].map(pcode_dict)\n",
    "df_brazil_v.sort_values(by=['Total Value'],ascending=False).head(10)"
   ]
  },
  {
   "cell_type": "code",
   "execution_count": 56,
   "metadata": {
    "scrolled": true
   },
   "outputs": [
    {
     "data": {
      "text/html": [
       "<div>\n",
       "<style scoped>\n",
       "    .dataframe tbody tr th:only-of-type {\n",
       "        vertical-align: middle;\n",
       "    }\n",
       "\n",
       "    .dataframe tbody tr th {\n",
       "        vertical-align: top;\n",
       "    }\n",
       "\n",
       "    .dataframe thead th {\n",
       "        text-align: right;\n",
       "    }\n",
       "</style>\n",
       "<table border=\"1\" class=\"dataframe\">\n",
       "  <thead>\n",
       "    <tr style=\"text-align: right;\">\n",
       "      <th></th>\n",
       "      <th>k</th>\n",
       "      <th>Total Quantity</th>\n",
       "      <th>Product Description</th>\n",
       "    </tr>\n",
       "  </thead>\n",
       "  <tbody>\n",
       "    <tr>\n",
       "      <th>869</th>\n",
       "      <td>260111</td>\n",
       "      <td>2.226085e+09</td>\n",
       "      <td>Iron ores and concentrates: non-agglomerated</td>\n",
       "    </tr>\n",
       "    <tr>\n",
       "      <th>498</th>\n",
       "      <td>120190</td>\n",
       "      <td>3.787319e+08</td>\n",
       "      <td>Soya beans: other than seed, whether or not br...</td>\n",
       "    </tr>\n",
       "    <tr>\n",
       "      <th>870</th>\n",
       "      <td>260112</td>\n",
       "      <td>2.968552e+08</td>\n",
       "      <td>Iron ores and concentrates: agglomerated (excl...</td>\n",
       "    </tr>\n",
       "    <tr>\n",
       "      <th>918</th>\n",
       "      <td>270900</td>\n",
       "      <td>2.664365e+08</td>\n",
       "      <td>Oils: petroleum oils and oils obtained from bi...</td>\n",
       "    </tr>\n",
       "    <tr>\n",
       "      <th>457</th>\n",
       "      <td>100590</td>\n",
       "      <td>1.706721e+08</td>\n",
       "      <td>Cereals: maize (corn), other than seed</td>\n",
       "    </tr>\n",
       "    <tr>\n",
       "      <th>638</th>\n",
       "      <td>170114</td>\n",
       "      <td>1.464199e+08</td>\n",
       "      <td>Sugars: cane sugar, raw, in solid form, other ...</td>\n",
       "    </tr>\n",
       "    <tr>\n",
       "      <th>781</th>\n",
       "      <td>230400</td>\n",
       "      <td>1.054343e+08</td>\n",
       "      <td>Oil-cake and other solid residues: whether or ...</td>\n",
       "    </tr>\n",
       "    <tr>\n",
       "      <th>2035</th>\n",
       "      <td>470329</td>\n",
       "      <td>8.372035e+07</td>\n",
       "      <td>Wood pulp: chemical wood pulp, soda or sulphat...</td>\n",
       "    </tr>\n",
       "    <tr>\n",
       "      <th>876</th>\n",
       "      <td>260600</td>\n",
       "      <td>5.787557e+07</td>\n",
       "      <td>Aluminium ores and concentrates</td>\n",
       "    </tr>\n",
       "    <tr>\n",
       "      <th>980</th>\n",
       "      <td>281820</td>\n",
       "      <td>5.529607e+07</td>\n",
       "      <td>Aluminium oxide: other than artificial corundum</td>\n",
       "    </tr>\n",
       "  </tbody>\n",
       "</table>\n",
       "</div>"
      ],
      "text/plain": [
       "           k  Total Quantity  \\\n",
       "869   260111    2.226085e+09   \n",
       "498   120190    3.787319e+08   \n",
       "870   260112    2.968552e+08   \n",
       "918   270900    2.664365e+08   \n",
       "457   100590    1.706721e+08   \n",
       "638   170114    1.464199e+08   \n",
       "781   230400    1.054343e+08   \n",
       "2035  470329    8.372035e+07   \n",
       "876   260600    5.787557e+07   \n",
       "980   281820    5.529607e+07   \n",
       "\n",
       "                                    Product Description  \n",
       "869        Iron ores and concentrates: non-agglomerated  \n",
       "498   Soya beans: other than seed, whether or not br...  \n",
       "870   Iron ores and concentrates: agglomerated (excl...  \n",
       "918   Oils: petroleum oils and oils obtained from bi...  \n",
       "457              Cereals: maize (corn), other than seed  \n",
       "638   Sugars: cane sugar, raw, in solid form, other ...  \n",
       "781   Oil-cake and other solid residues: whether or ...  \n",
       "2035  Wood pulp: chemical wood pulp, soda or sulphat...  \n",
       "876                     Aluminium ores and concentrates  \n",
       "980     Aluminium oxide: other than artificial corundum  "
      ]
     },
     "execution_count": 56,
     "metadata": {},
     "output_type": "execute_result"
    }
   ],
   "source": [
    "#top 10 goods in terms of quantity\n",
    "df_brazil_q = df_brazil.groupby('k')['q'].sum()\n",
    "df_brazil_q = pd.DataFrame(df_brazil_q)\n",
    "df_brazil_q.rename(columns={'q':'Total Quantity'},inplace=True)\n",
    "df_brazil_q.reset_index(inplace=True)\n",
    "df_brazil_q['Product Description'] = df_brazil_q['k'].map(pcode_dict)\n",
    "df_brazil_q.sort_values(by=['Total Quantity'],ascending=False).head(10)"
   ]
  },
  {
   "cell_type": "markdown",
   "metadata": {},
   "source": [
    "## Question 4"
   ]
  },
  {
   "cell_type": "markdown",
   "metadata": {},
   "source": [
    "### Part a"
   ]
  },
  {
   "cell_type": "code",
   "execution_count": 57,
   "metadata": {
    "scrolled": false
   },
   "outputs": [
    {
     "data": {
      "text/plain": [
       "<AxesSubplot:>"
      ]
     },
     "execution_count": 57,
     "metadata": {},
     "output_type": "execute_result"
    },
    {
     "data": {
      "image/png": "[encoded data removed]",
      "text/plain": [
       "<Figure size 720x720 with 1 Axes>"
      ]
     },
     "metadata": {
      "needs_background": "light"
     },
     "output_type": "display_data"
    }
   ],
   "source": [
    "#read the data and change crs\n",
    "countries = geopandas.read_file(dir+'countries.geojson')\n",
    "countries_proj = countries.to_crs(epsg=4087)\n",
    "\n",
    "#plot the countries with centroid\n",
    "f,a = plt.subplots(figsize=(10,10))\n",
    "countries_proj.plot(ax=a,zorder=1,color='gray')\n",
    "countries_proj.centroid.plot(ax=a,color='white',markersize=5)"
   ]
  },
  {
   "cell_type": "code",
   "execution_count": 58,
   "metadata": {
    "scrolled": true
   },
   "outputs": [
    {
     "data": {
      "text/html": [
       "<div>\n",
       "<style scoped>\n",
       "    .dataframe tbody tr th:only-of-type {\n",
       "        vertical-align: middle;\n",
       "    }\n",
       "\n",
       "    .dataframe tbody tr th {\n",
       "        vertical-align: top;\n",
       "    }\n",
       "\n",
       "    .dataframe thead th {\n",
       "        text-align: right;\n",
       "    }\n",
       "</style>\n",
       "<table border=\"1\" class=\"dataframe\">\n",
       "  <thead>\n",
       "    <tr style=\"text-align: right;\">\n",
       "      <th></th>\n",
       "      <th>ADMIN</th>\n",
       "      <th>ISO_A3</th>\n",
       "      <th>geometry</th>\n",
       "      <th>brazil_dist</th>\n",
       "    </tr>\n",
       "  </thead>\n",
       "  <tbody>\n",
       "    <tr>\n",
       "      <th>0</th>\n",
       "      <td>Aruba</td>\n",
       "      <td>ABW</td>\n",
       "      <td>POLYGON ((-7792023.454 1400130.035, -7785283.4...</td>\n",
       "      <td>3202.790838</td>\n",
       "    </tr>\n",
       "    <tr>\n",
       "      <th>1</th>\n",
       "      <td>Afghanistan</td>\n",
       "      <td>AFG</td>\n",
       "      <td>POLYGON ((7909227.812 4275632.969, 7910044.680...</td>\n",
       "      <td>14158.036032</td>\n",
       "    </tr>\n",
       "    <tr>\n",
       "      <th>2</th>\n",
       "      <td>Angola</td>\n",
       "      <td>AGO</td>\n",
       "      <td>MULTIPOLYGON (((1306614.688 -1858209.281, 1306...</td>\n",
       "      <td>7864.236441</td>\n",
       "    </tr>\n",
       "    <tr>\n",
       "      <th>3</th>\n",
       "      <td>Anguilla</td>\n",
       "      <td>AIA</td>\n",
       "      <td>MULTIPOLYGON (((-7017321.150 2027457.219, -702...</td>\n",
       "      <td>3414.266868</td>\n",
       "    </tr>\n",
       "    <tr>\n",
       "      <th>4</th>\n",
       "      <td>Albania</td>\n",
       "      <td>ALB</td>\n",
       "      <td>POLYGON ((2198311.227 4739861.562, 2198115.639...</td>\n",
       "      <td>9985.559834</td>\n",
       "    </tr>\n",
       "    <tr>\n",
       "      <th>...</th>\n",
       "      <td>...</td>\n",
       "      <td>...</td>\n",
       "      <td>...</td>\n",
       "      <td>...</td>\n",
       "    </tr>\n",
       "    <tr>\n",
       "      <th>250</th>\n",
       "      <td>Samoa</td>\n",
       "      <td>WSM</td>\n",
       "      <td>MULTIPOLYGON (((-19099086.934 -1551589.427, -1...</td>\n",
       "      <td>13258.807650</td>\n",
       "    </tr>\n",
       "    <tr>\n",
       "      <th>251</th>\n",
       "      <td>Yemen</td>\n",
       "      <td>YEM</td>\n",
       "      <td>MULTIPOLYGON (((5934246.071 1349013.509, 59344...</td>\n",
       "      <td>11595.003670</td>\n",
       "    </tr>\n",
       "    <tr>\n",
       "      <th>252</th>\n",
       "      <td>South Africa</td>\n",
       "      <td>ZAF</td>\n",
       "      <td>MULTIPOLYGON (((4214976.725 -5225431.577, 4211...</td>\n",
       "      <td>8936.163482</td>\n",
       "    </tr>\n",
       "    <tr>\n",
       "      <th>253</th>\n",
       "      <td>Zambia</td>\n",
       "      <td>ZMB</td>\n",
       "      <td>POLYGON ((3464244.349 -959198.926, 3466602.913...</td>\n",
       "      <td>9006.978733</td>\n",
       "    </tr>\n",
       "    <tr>\n",
       "      <th>254</th>\n",
       "      <td>Zimbabwe</td>\n",
       "      <td>ZWE</td>\n",
       "      <td>POLYGON ((3340770.669 -1741730.058, 3345177.15...</td>\n",
       "      <td>9278.574049</td>\n",
       "    </tr>\n",
       "  </tbody>\n",
       "</table>\n",
       "<p>255 rows × 4 columns</p>\n",
       "</div>"
      ],
      "text/plain": [
       "            ADMIN ISO_A3                                           geometry  \\\n",
       "0           Aruba    ABW  POLYGON ((-7792023.454 1400130.035, -7785283.4...   \n",
       "1     Afghanistan    AFG  POLYGON ((7909227.812 4275632.969, 7910044.680...   \n",
       "2          Angola    AGO  MULTIPOLYGON (((1306614.688 -1858209.281, 1306...   \n",
       "3        Anguilla    AIA  MULTIPOLYGON (((-7017321.150 2027457.219, -702...   \n",
       "4         Albania    ALB  POLYGON ((2198311.227 4739861.562, 2198115.639...   \n",
       "..            ...    ...                                                ...   \n",
       "250         Samoa    WSM  MULTIPOLYGON (((-19099086.934 -1551589.427, -1...   \n",
       "251         Yemen    YEM  MULTIPOLYGON (((5934246.071 1349013.509, 59344...   \n",
       "252  South Africa    ZAF  MULTIPOLYGON (((4214976.725 -5225431.577, 4211...   \n",
       "253        Zambia    ZMB  POLYGON ((3464244.349 -959198.926, 3466602.913...   \n",
       "254      Zimbabwe    ZWE  POLYGON ((3340770.669 -1741730.058, 3345177.15...   \n",
       "\n",
       "      brazil_dist  \n",
       "0     3202.790838  \n",
       "1    14158.036032  \n",
       "2     7864.236441  \n",
       "3     3414.266868  \n",
       "4     9985.559834  \n",
       "..            ...  \n",
       "250  13258.807650  \n",
       "251  11595.003670  \n",
       "252   8936.163482  \n",
       "253   9006.978733  \n",
       "254   9278.574049  \n",
       "\n",
       "[255 rows x 4 columns]"
      ]
     },
     "execution_count": 58,
     "metadata": {},
     "output_type": "execute_result"
    }
   ],
   "source": [
    "#find the position of brazil in the projection dataframe\n",
    "brazil_index = countries_proj.index[countries_proj['ADMIN']=='Brazil'].tolist()\n",
    "\n",
    "#establish the centroid of brazil\n",
    "brazil_cent = countries_proj.centroid[brazil_index[0]]\n",
    "\n",
    "#calculate the distance between brazil and other countries in km using the distance function\n",
    "countries_proj['brazil_dist'] = countries_proj.centroid.distance(brazil_cent)/1000\n",
    "countries_proj"
   ]
  },
  {
   "cell_type": "markdown",
   "metadata": {},
   "source": [
    "### Part b"
   ]
  },
  {
   "cell_type": "code",
   "execution_count": 64,
   "metadata": {
    "scrolled": true
   },
   "outputs": [],
   "source": [
    "#construct a dictionary that maps the country codes to 3 digit ISO values\n",
    "code_dict_3digit = pd.Series(df_code.iso_3digit_alpha.values,index=df_code.country_code).to_dict()\n",
    "\n",
    "#apply the dictionary to the dataframe to get a ISO_A3 column\n",
    "df_brazil_q4 = df_brazil\n",
    "df_brazil_q4['ISO_A3'] = df_brazil_q4['j'].map(code_dict_3digit)\n",
    "\n",
    "#group by country and get the total export value to each country\n",
    "df_brazil_q4_by_vimporter = df_brazil_q4.groupby('ISO_A3')['v'].sum()\n",
    "df_brazil_q4_by_vimporter = df_brazil_q4_by_vimporter.to_frame()\n",
    "df_brazil_q4_by_vimporter = df_brazil_q4_by_vimporter.reset_index()\n",
    "df_brazil_q4_by_vimporter = df_brazil_q4_by_vimporter.rename(columns={'v':'Total Value'})\n",
    "df_brazil_q4_by_vimporter = df_brazil_q4_by_vimporter.merge(countries_proj,left_on='ISO_A3',right_on='ISO_A3')\n",
    "df_brazil_q4_by_vimporter['Log Distance'] = np.log2(df_brazil_q4_by_vimporter['brazil_dist'])\n",
    "df_brazil_q4_by_vimporter['Log Total Value'] = np.log2(df_brazil_q4_by_vimporter['Total Value'])\n",
    "\n",
    "##group by country and get the total export quantity to each country\n",
    "df_brazil_q4_by_qimporter = df_brazil_q4.groupby('ISO_A3')['q'].sum()\n",
    "df_brazil_q4_by_qimporter = df_brazil_q4_by_qimporter.to_frame()\n",
    "df_brazil_q4_by_qimporter = df_brazil_q4_by_qimporter.reset_index()\n",
    "df_brazil_q4_by_qimporter = df_brazil_q4_by_qimporter.rename(columns={'q':'Total Quantity'})\n",
    "df_brazil_q4_by_qimporter = df_brazil_q4_by_qimporter.merge(countries_proj,left_on='ISO_A3',right_on='ISO_A3')\n",
    "df_brazil_q4_by_qimporter['Log Distance'] = np.log2(df_brazil_q4_by_qimporter['brazil_dist'])\n",
    "df_brazil_q4_by_qimporter['Log Total Quantity'] = np.log2(df_brazil_q4_by_qimporter['Total Quantity'])"
   ]
  },
  {
   "cell_type": "code",
   "execution_count": 65,
   "metadata": {
    "scrolled": false
   },
   "outputs": [
    {
     "data": {
      "text/plain": [
       "Text(0.5, 1.0, 'Scatter Plot Distance-Quantity')"
      ]
     },
     "execution_count": 65,
     "metadata": {},
     "output_type": "execute_result"
    },
    {
     "data": {
      "image/png": "[encoded data removed]",
      "text/plain": [
       "<Figure size 432x288 with 1 Axes>"
      ]
     },
     "metadata": {
      "needs_background": "light"
     },
     "output_type": "display_data"
    },
    {
     "data": {
      "image/png": "[encoded data removed]",
      "text/plain": [
       "<Figure size 432x288 with 1 Axes>"
      ]
     },
     "metadata": {
      "needs_background": "light"
     },
     "output_type": "display_data"
    }
   ],
   "source": [
    "#scatter plot for value-distance\n",
    "df_brazil_q4_by_vimporter.plot.scatter(x='Log Distance',y='Log Total Value')\n",
    "plt.xlabel('Log Distance to Brazil')\n",
    "plt.title('Scatter Plot Distance-Value')\n",
    "\n",
    "#scatter plot for quantity-distance\n",
    "df_brazil_q4_by_qimporter.plot.scatter(x='Log Distance',y='Log Total Quantity')\n",
    "plt.xlabel('Log Distance to Brazil')\n",
    "plt.title('Scatter Plot Distance-Quantity')"
   ]
  },
  {
   "cell_type": "markdown",
   "metadata": {},
   "source": [
    "### Part c"
   ]
  },
  {
   "cell_type": "code",
   "execution_count": 66,
   "metadata": {
    "scrolled": true
   },
   "outputs": [
    {
     "name": "stdout",
     "output_type": "stream",
     "text": [
      "corr value-distance: 0.04153861031023011\n",
      "corr quantity-distance: 0.11313878803184693\n"
     ]
    }
   ],
   "source": [
    "#correlation between value and distance\n",
    "correlation_vd = df_brazil_q4_by_vimporter['Total Value'].corr(df_brazil_q4_by_vimporter['brazil_dist'])\n",
    "\n",
    "#correlation between quantity and distance\n",
    "correlation_qd = df_brazil_q4_by_qimporter['Total Quantity'].corr(df_brazil_q4_by_qimporter['brazil_dist'])\n",
    "\n",
    "print('corr value-distance: '+str(correlation_vd))\n",
    "print('corr quantity-distance: '+str(correlation_qd))"
   ]
  },
  {
   "cell_type": "markdown",
   "metadata": {},
   "source": [
    "Weak correlation for both value and quantity. This is not surprising since contemporary trade isn't severly restricted by geographical distance. "
   ]
  },
  {
   "cell_type": "markdown",
   "metadata": {},
   "source": [
    "### Part d"
   ]
  },
  {
   "cell_type": "code",
   "execution_count": 70,
   "metadata": {
    "scrolled": true
   },
   "outputs": [],
   "source": [
    "df_brazil_q4_ext = df_brazil_q4"
   ]
  },
  {
   "cell_type": "code",
   "execution_count": 71,
   "metadata": {
    "scrolled": true
   },
   "outputs": [],
   "source": [
    "#animal & animal products\n",
    "df_brazil_q4_ext_ani = df_brazil_q4_ext.loc[df_brazil_q4_ext.Category=='Animal & Animal Products']\n",
    "df_brazil_q4_ext_ani = df_brazil_q4_ext_ani.groupby('ISO_A3')['q'].sum()\n",
    "df_brazil_q4_ext_ani = df_brazil_q4_ext_ani.to_frame()\n",
    "df_brazil_q4_ext_ani = df_brazil_q4_ext_ani.reset_index()\n",
    "df_brazil_q4_ext_ani = df_brazil_q4_ext_ani.merge(countries_proj,left_on='ISO_A3',right_on='ISO_A3')\n",
    "corr_animal_dist = df_brazil_q4_ext_ani['q'].corr(df_brazil_q4_ext_ani['brazil_dist'])\n",
    "\n",
    "#vegetable products\n",
    "df_brazil_q4_ext_veg = df_brazil_q4_ext.loc[df_brazil_q4_ext.Category=='Vegetable Products']\n",
    "df_brazil_q4_ext_veg = df_brazil_q4_ext_veg.groupby('ISO_A3')['q'].sum()\n",
    "df_brazil_q4_ext_veg = df_brazil_q4_ext_veg.to_frame()\n",
    "df_brazil_q4_ext_veg = df_brazil_q4_ext_veg.reset_index()\n",
    "df_brazil_q4_ext_veg = df_brazil_q4_ext_veg.merge(countries_proj,left_on='ISO_A3',right_on='ISO_A3')\n",
    "corr_veg_dist = df_brazil_q4_ext_veg['q'].corr(df_brazil_q4_ext_veg['brazil_dist'])\n",
    "\n",
    "#foodstuffs\n",
    "df_brazil_q4_ext_food = df_brazil_q4_ext.loc[df_brazil_q4_ext.Category=='Foodstuffs']\n",
    "df_brazil_q4_ext_food = df_brazil_q4_ext_food.groupby('ISO_A3')['q'].sum()\n",
    "df_brazil_q4_ext_food = df_brazil_q4_ext_food.to_frame()\n",
    "df_brazil_q4_ext_food = df_brazil_q4_ext_food.reset_index()\n",
    "df_brazil_q4_ext_food = df_brazil_q4_ext_food.merge(countries_proj,left_on='ISO_A3',right_on='ISO_A3')\n",
    "corr_food_dist = df_brazil_q4_ext_food['q'].corr(df_brazil_q4_ext_food['brazil_dist'])\n",
    "\n",
    "#chemicals $ allied industries\n",
    "df_brazil_q4_ext_chem = df_brazil_q4_ext.loc[df_brazil_q4_ext.Category=='Chemical & Allied Industries']\n",
    "df_brazil_q4_ext_chem = df_brazil_q4_ext_chem.groupby('ISO_A3')['q'].sum()\n",
    "df_brazil_q4_ext_chem = df_brazil_q4_ext_chem.to_frame()\n",
    "df_brazil_q4_ext_chem = df_brazil_q4_ext_chem.reset_index()\n",
    "df_brazil_q4_ext_chem = df_brazil_q4_ext_chem.merge(countries_proj,left_on='ISO_A3',right_on='ISO_A3')\n",
    "corr_chem_dist = df_brazil_q4_ext_chem['q'].corr(df_brazil_q4_ext_chem['brazil_dist'])\n",
    "\n",
    "#plastics / rubbers\n",
    "df_brazil_q4_ext_plas = df_brazil_q4_ext.loc[df_brazil_q4_ext.Category=='Plastics / Rubbers']\n",
    "df_brazil_q4_ext_plas = df_brazil_q4_ext_plas.groupby('ISO_A3')['q'].sum()\n",
    "df_brazil_q4_ext_plas = df_brazil_q4_ext_plas.to_frame()\n",
    "df_brazil_q4_ext_plas = df_brazil_q4_ext_plas.reset_index()\n",
    "df_brazil_q4_ext_plas = df_brazil_q4_ext_plas.merge(countries_proj,left_on='ISO_A3',right_on='ISO_A3')\n",
    "corr_plas_dist = df_brazil_q4_ext_plas['q'].corr(df_brazil_q4_ext_plas['brazil_dist'])\n",
    "\n",
    "#raw hides, skins, leather, & furs\n",
    "df_brazil_q4_ext_fur = df_brazil_q4_ext.loc[df_brazil_q4_ext.Category=='Raw Hides, Skins, Leather, & Furs']\n",
    "df_brazil_q4_ext_fur = df_brazil_q4_ext_fur.groupby('ISO_A3')['q'].sum()\n",
    "df_brazil_q4_ext_fur = df_brazil_q4_ext_fur.to_frame()\n",
    "df_brazil_q4_ext_fur = df_brazil_q4_ext_fur.reset_index()\n",
    "df_brazil_q4_ext_fur = df_brazil_q4_ext_fur.merge(countries_proj,left_on='ISO_A3',right_on='ISO_A3')\n",
    "corr_fur_dist = df_brazil_q4_ext_fur['q'].corr(df_brazil_q4_ext_fur['brazil_dist'])\n",
    "\n",
    "#mineral products\n",
    "df_brazil_q4_ext_mine = df_brazil_q4_ext.loc[df_brazil_q4_ext.Category=='Mineral Products']\n",
    "df_brazil_q4_ext_mine = df_brazil_q4_ext_mine.groupby('ISO_A3')['q'].sum()\n",
    "df_brazil_q4_ext_mine = df_brazil_q4_ext_mine.to_frame()\n",
    "df_brazil_q4_ext_mine = df_brazil_q4_ext_mine.reset_index()\n",
    "df_brazil_q4_ext_mine = df_brazil_q4_ext_mine.merge(countries_proj,left_on='ISO_A3',right_on='ISO_A3')\n",
    "corr_mine_dist = df_brazil_q4_ext_mine['q'].corr(df_brazil_q4_ext_mine['brazil_dist'])\n",
    "\n",
    "#wood & wood products\n",
    "df_brazil_q4_ext_wood = df_brazil_q4_ext.loc[df_brazil_q4_ext.Category=='Wood & Wood Products']\n",
    "df_brazil_q4_ext_wood = df_brazil_q4_ext_wood.groupby('ISO_A3')['q'].sum()\n",
    "df_brazil_q4_ext_wood = df_brazil_q4_ext_wood.to_frame()\n",
    "df_brazil_q4_ext_wood = df_brazil_q4_ext_wood.reset_index()\n",
    "df_brazil_q4_ext_wood = df_brazil_q4_ext_wood.merge(countries_proj,left_on='ISO_A3',right_on='ISO_A3')\n",
    "corr_wood_dist = df_brazil_q4_ext_wood['q'].corr(df_brazil_q4_ext_wood['brazil_dist'])\n",
    "\n",
    "#textiles\n",
    "df_brazil_q4_ext_tex = df_brazil_q4_ext.loc[df_brazil_q4_ext.Category=='Textiles']\n",
    "df_brazil_q4_ext_tex = df_brazil_q4_ext_tex.groupby('ISO_A3')['q'].sum()\n",
    "df_brazil_q4_ext_tex = df_brazil_q4_ext_tex.to_frame()\n",
    "df_brazil_q4_ext_tex = df_brazil_q4_ext_tex.reset_index()\n",
    "df_brazil_q4_ext_tex = df_brazil_q4_ext_tex.merge(countries_proj,left_on='ISO_A3',right_on='ISO_A3')\n",
    "corr_tex_dist = df_brazil_q4_ext_tex['q'].corr(df_brazil_q4_ext_tex['brazil_dist'])\n",
    "\n",
    "#footwear / headgear\n",
    "df_brazil_q4_ext_foot = df_brazil_q4_ext.loc[df_brazil_q4_ext.Category=='Footwear / Headgear']\n",
    "df_brazil_q4_ext_foot = df_brazil_q4_ext_foot.groupby('ISO_A3')['q'].sum()\n",
    "df_brazil_q4_ext_foot = df_brazil_q4_ext_foot.to_frame()\n",
    "df_brazil_q4_ext_foot = df_brazil_q4_ext_foot.reset_index()\n",
    "df_brazil_q4_ext_foot = df_brazil_q4_ext_foot.merge(countries_proj,left_on='ISO_A3',right_on='ISO_A3')\n",
    "corr_foot_dist = df_brazil_q4_ext_foot['q'].corr(df_brazil_q4_ext_foot['brazil_dist'])\n",
    "\n",
    "#stone / glass\n",
    "df_brazil_q4_ext_stone = df_brazil_q4_ext.loc[df_brazil_q4_ext.Category=='Stone / Glass']\n",
    "df_brazil_q4_ext_stone = df_brazil_q4_ext_stone.groupby('ISO_A3')['q'].sum()\n",
    "df_brazil_q4_ext_stone = df_brazil_q4_ext_stone.to_frame()\n",
    "df_brazil_q4_ext_stone = df_brazil_q4_ext_stone.reset_index()\n",
    "df_brazil_q4_ext_stone = df_brazil_q4_ext_stone.merge(countries_proj,left_on='ISO_A3',right_on='ISO_A3')\n",
    "corr_stone_dist = df_brazil_q4_ext_stone['q'].corr(df_brazil_q4_ext_stone['brazil_dist'])\n",
    "\n",
    "#metals\n",
    "df_brazil_q4_ext_met = df_brazil_q4_ext.loc[df_brazil_q4_ext.Category=='Metals']\n",
    "df_brazil_q4_ext_met = df_brazil_q4_ext_met.groupby('ISO_A3')['q'].sum()\n",
    "df_brazil_q4_ext_met = df_brazil_q4_ext_met.to_frame()\n",
    "df_brazil_q4_ext_met = df_brazil_q4_ext_met.reset_index()\n",
    "df_brazil_q4_ext_met = df_brazil_q4_ext_met.merge(countries_proj,left_on='ISO_A3',right_on='ISO_A3')\n",
    "corr_met_dist = df_brazil_q4_ext_met['q'].corr(df_brazil_q4_ext_met['brazil_dist'])\n",
    "\n",
    "#machinery / electrical\n",
    "df_brazil_q4_ext_mech = df_brazil_q4_ext.loc[df_brazil_q4_ext.Category=='Machinery / Electrical']\n",
    "df_brazil_q4_ext_mech = df_brazil_q4_ext_mech.groupby('ISO_A3')['q'].sum()\n",
    "df_brazil_q4_ext_mech = df_brazil_q4_ext_mech.to_frame()\n",
    "df_brazil_q4_ext_mech = df_brazil_q4_ext_mech.reset_index()\n",
    "df_brazil_q4_ext_mech = df_brazil_q4_ext_mech.merge(countries_proj,left_on='ISO_A3',right_on='ISO_A3')\n",
    "corr_mech_dist = df_brazil_q4_ext_mech['q'].corr(df_brazil_q4_ext_mech['brazil_dist'])\n",
    "\n",
    "#transportation\n",
    "df_brazil_q4_ext_trans = df_brazil_q4_ext.loc[df_brazil_q4_ext.Category=='Transportation']\n",
    "df_brazil_q4_ext_trans = df_brazil_q4_ext_trans.groupby('ISO_A3')['q'].sum()\n",
    "df_brazil_q4_ext_trans = df_brazil_q4_ext_trans.to_frame()\n",
    "df_brazil_q4_ext_trans = df_brazil_q4_ext_trans.reset_index()\n",
    "df_brazil_q4_ext_trans = df_brazil_q4_ext_trans.merge(countries_proj,left_on='ISO_A3',right_on='ISO_A3')\n",
    "corr_trans_dist = df_brazil_q4_ext_trans['q'].corr(df_brazil_q4_ext_trans['brazil_dist'])\n",
    "\n",
    "#miscellaneous\n",
    "df_brazil_q4_ext_misc = df_brazil_q4_ext.loc[df_brazil_q4_ext.Category=='Miscellaneous']\n",
    "df_brazil_q4_ext_misc = df_brazil_q4_ext_misc.groupby('ISO_A3')['q'].sum()\n",
    "df_brazil_q4_ext_misc = df_brazil_q4_ext_misc.to_frame()\n",
    "df_brazil_q4_ext_misc = df_brazil_q4_ext_misc.reset_index()\n",
    "df_brazil_q4_ext_misc = df_brazil_q4_ext_misc.merge(countries_proj,left_on='ISO_A3',right_on='ISO_A3')\n",
    "corr_misc_dist = df_brazil_q4_ext_misc['q'].corr(df_brazil_q4_ext_misc['brazil_dist'])"
   ]
  },
  {
   "cell_type": "code",
   "execution_count": 72,
   "metadata": {
    "scrolled": false
   },
   "outputs": [
    {
     "data": {
      "text/plain": [
       "Textiles                             0.223634\n",
       "Animal & Animal Products             0.162544\n",
       "Mineral Products                     0.149120\n",
       "Vegetable Products                   0.135592\n",
       "Raw Hides, Skins, Leather, & Furs    0.131216\n",
       "Foodstuffs                           0.118982\n",
       "Wood & Wood Products                 0.087006\n",
       "Metals                              -0.028301\n",
       "Chemical & Allied Industries        -0.033171\n",
       "Stone / Glass                       -0.105325\n",
       "Transportation                      -0.128017\n",
       "Machinery / Electrical              -0.132009\n",
       "Plastics / Rubbers                  -0.165190\n",
       "Footwear / Headgear                 -0.176872\n",
       "Miscellaneous                       -0.235153\n",
       "dtype: float64"
      ]
     },
     "execution_count": 72,
     "metadata": {},
     "output_type": "execute_result"
    }
   ],
   "source": [
    "#complie and summarize the correlation statistics\n",
    "corr_data = [corr_animal_dist,corr_veg_dist,corr_food_dist,corr_mine_dist,\n",
    "             corr_chem_dist,corr_plas_dist,corr_fur_dist,corr_wood_dist,\n",
    "             corr_tex_dist,corr_foot_dist,corr_stone_dist,corr_met_dist,\n",
    "             corr_mech_dist,corr_trans_dist,corr_misc_dist]\n",
    "index = ['Animal & Animal Products','Vegetable Products','Foodstuffs','Mineral Products',\n",
    "         'Chemical & Allied Industries','Plastics / Rubbers','Raw Hides, Skins, Leather, & Furs','Wood & Wood Products',\n",
    "         'Textiles','Footwear / Headgear','Stone / Glass','Metals',\n",
    "         'Machinery / Electrical','Transportation','Miscellaneous']\n",
    "corr_cat_dist = pd.Series(corr_data,index=index)\n",
    "corr_cat_dist.sort_values(ascending=False)"
   ]
  },
  {
   "cell_type": "markdown",
   "metadata": {},
   "source": [
    "Miscellaneous category has the strongest negative correlation with distance. Textiles category has the strongest positive correlation with distance. Once again, one should treat this result with suspicion since trade isn't severely restricted by distance these days."
   ]
  },
  {
   "cell_type": "markdown",
   "metadata": {},
   "source": [
    "## Question 5"
   ]
  },
  {
   "cell_type": "markdown",
   "metadata": {},
   "source": [
    "### Part a"
   ]
  },
  {
   "cell_type": "code",
   "execution_count": 76,
   "metadata": {
    "scrolled": true
   },
   "outputs": [],
   "source": [
    "#sse_1p function that returns the sum of squared errors\n",
    "def SSE_1p(beta,q,d):\n",
    "    sse_1p = 0\n",
    "    for q_j,d_j in zip(q,d):\n",
    "        e = np.log2(q_j)-beta*np.log2(d_j)\n",
    "        sse_1p = sse_1p+e**2\n",
    "    return sse_1p"
   ]
  },
  {
   "cell_type": "markdown",
   "metadata": {},
   "source": [
    "### Part b"
   ]
  },
  {
   "cell_type": "code",
   "execution_count": 77,
   "metadata": {
    "scrolled": false
   },
   "outputs": [],
   "source": [
    "#search function that returns the beta that minimizes sse\n",
    "def search_1p(beta_range):\n",
    "    errors = []\n",
    "    for i in range(0,beta_grid,1):\n",
    "        errors.append(SSE_1p(beta_range[i],q,d))\n",
    "    beta_choice = beta_range[np.argmin(errors)]    \n",
    "    return beta_choice,errors"
   ]
  },
  {
   "cell_type": "code",
   "execution_count": 78,
   "metadata": {
    "scrolled": true
   },
   "outputs": [
    {
     "name": "stdout",
     "output_type": "stream",
     "text": [
      "The beta value that minimizes the SSE is: 1.410000000000002\n"
     ]
    }
   ],
   "source": [
    "#parameters range and value\n",
    "beta_min = -1\n",
    "beta_max = 3.005\n",
    "beta_range = np.arange(beta_min,beta_max,0.005)\n",
    "beta_grid = len(beta_range)\n",
    "q = df_brazil_q4_by_qimporter['Total Quantity'].tolist()\n",
    "d = df_brazil_q4_by_qimporter['brazil_dist'].tolist()\n",
    "\n",
    "#get beta hat\n",
    "beta_hat = search_1p(beta_range)[0]\n",
    "print('The beta value that minimizes the SSE is: '+str(beta_hat))"
   ]
  },
  {
   "cell_type": "markdown",
   "metadata": {},
   "source": [
    "Once again, distance is no longer the primary restricting factor for trade these days. One should take this result with a grain of salt."
   ]
  },
  {
   "cell_type": "code",
   "execution_count": 79,
   "metadata": {
    "scrolled": false
   },
   "outputs": [
    {
     "data": {
      "text/plain": [
       "Text(0, 0.5, 'Sum of Square Errors')"
      ]
     },
     "execution_count": 79,
     "metadata": {},
     "output_type": "execute_result"
    },
    {
     "data": {
      "image/png": "[encoded data removed]",
      "text/plain": [
       "<Figure size 360x360 with 1 Axes>"
      ]
     },
     "metadata": {
      "needs_background": "light"
     },
     "output_type": "display_data"
    }
   ],
   "source": [
    "#plot the beta candidates and corresponding sse\n",
    "f,a = plt.subplots(figsize=(5,5))\n",
    "xAxis = beta_range\n",
    "a.plot(xAxis,search_1p(beta_range)[1])\n",
    "plt.xlabel('beta value')\n",
    "plt.ylabel('Sum of Square Errors')"
   ]
  },
  {
   "cell_type": "markdown",
   "metadata": {},
   "source": [
    "### Part c"
   ]
  },
  {
   "cell_type": "code",
   "execution_count": 80,
   "metadata": {
    "scrolled": true
   },
   "outputs": [],
   "source": [
    "##sse_2p function that returns the sum of squared errors\n",
    "def SSE_2p(vbeta,q,d): \n",
    "    sse_2p = 0\n",
    "    vbeta0,vbeta1 = vbeta\n",
    "    for q_j,d_j in zip(q,d):\n",
    "        e = np.log2(q_j)-vbeta0-vbeta1*np.log2(d_j)\n",
    "        sse_2p = sse_2p+e**2\n",
    "    return sse_2p"
   ]
  },
  {
   "cell_type": "markdown",
   "metadata": {},
   "source": [
    "### Part d"
   ]
  },
  {
   "cell_type": "code",
   "execution_count": 82,
   "metadata": {
    "scrolled": true
   },
   "outputs": [],
   "source": [
    "#search function that returns the beta that minimizes sse\n",
    "def serach_2p(beta0_range,beta1_range):\n",
    "    errors = []\n",
    "    for vbeta in itertools.product(beta0_range,beta1_range):\n",
    "        errors.append(SSE_2p(vbeta,q,d))\n",
    "    vbeta_choice = list(itertools.product(beta0_range,beta1_range))[np.argmin(errors)]\n",
    "    return vbeta_choice,errors"
   ]
  },
  {
   "cell_type": "code",
   "execution_count": 86,
   "metadata": {
    "scrolled": false
   },
   "outputs": [
    {
     "name": "stdout",
     "output_type": "stream",
     "text": [
      "The beta values that minimize the SSE are: (1500, -1.0)\n"
     ]
    }
   ],
   "source": [
    "#parameters range and value\n",
    "beta0_min = 1500\n",
    "beta0_max = 2510\n",
    "beta0_range = np.arange(beta0_min,beta0_max,10)\n",
    "beta0_grid = len(beta0_range)\n",
    "beta1_min = -1\n",
    "beta1_max = 3.005\n",
    "beta1_range = np.arange(beta1_min,beta1_max,0.005)\n",
    "beta1_grid = len(beta1_range)\n",
    "q = df_brazil_q4_by_qimporter['Total Quantity'].tolist()\n",
    "d = df_brazil_q4_by_qimporter['brazil_dist'].tolist()\n",
    "\n",
    "#get beta hat vector\n",
    "vbeta_hat = serach_2p(beta0_range,beta1_range)[0]\n",
    "print('The beta values that minimize the SSE are: '+str(vbeta_hat))"
   ]
  },
  {
   "cell_type": "markdown",
   "metadata": {},
   "source": [
    "The given range for beta0 is too far off from the true value. "
   ]
  },
  {
   "cell_type": "markdown",
   "metadata": {},
   "source": [
    "### Part e"
   ]
  },
  {
   "cell_type": "code",
   "execution_count": 87,
   "metadata": {
    "scrolled": true
   },
   "outputs": [
    {
     "data": {
      "text/plain": [
       "=======================================================\n",
       "Dependent variable:\tLog Total Quantity\n",
       "N:\t\t\t214\n",
       "R-squared:\t\t0.0112\n",
       "Estimation method:\tOLS\n",
       "VCE method:\t\tStandard (Homosk.)\n",
       "=======================================================\n",
       "              coeff    se      t   p>t CI_low CI_high\n",
       "Ones         26.749 5.266  5.079 0.000 16.368  37.129\n",
       "Log Distance -0.621 0.401 -1.550 0.123 -1.410   0.169\n",
       "======================================================="
      ]
     },
     "execution_count": 87,
     "metadata": {},
     "output_type": "execute_result"
    }
   ],
   "source": [
    "#ols regression \n",
    "df_brazil_q5_by_qimporter = df_brazil_q4_by_qimporter\n",
    "df_brazil_q5_by_qimporter['Ones'] = 1\n",
    "result = mt.reg(df_brazil_q5_by_qimporter,'Log Total Quantity',['Ones','Log Distance'])\n",
    "result"
   ]
  },
  {
   "cell_type": "markdown",
   "metadata": {},
   "source": [
    "Note that if we change the range of the first parameter from (1500,2500) to (0,50) with steps of 1 for example, then the result from grid search is close to the one of running OLS."
   ]
  },
  {
   "cell_type": "markdown",
   "metadata": {},
   "source": [
    "### Part f"
   ]
  },
  {
   "cell_type": "code",
   "execution_count": 91,
   "metadata": {
    "scrolled": true
   },
   "outputs": [
    {
     "data": {
      "text/plain": [
       "=======================================================\n",
       "Dependent variable:\tLog Total Quantity\n",
       "N:\t\t\t192\n",
       "R-squared:\t\t0.7103\n",
       "Estimation method:\tOLS\n",
       "VCE method:\t\tStandard (Homosk.)\n",
       "=======================================================\n",
       "              coeff    se      t   p>t  CI_low CI_high\n",
       "Ones         -6.527 3.212 -2.032 0.044 -12.863  -0.190\n",
       "Log Distance -1.369 0.210 -6.522 0.000  -1.783  -0.955\n",
       "Log GDP       1.165 0.055 21.220 0.000   1.057   1.274\n",
       "======================================================="
      ]
     },
     "execution_count": 91,
     "metadata": {},
     "output_type": "execute_result"
    }
   ],
   "source": [
    "#prepare the data\n",
    "df_gdp = pd.read_csv(dir+'GDP.csv')\n",
    "df_gdp = df_gdp.rename(columns={'Country Code':'ISO_A3'})\n",
    "\n",
    "df_gdp['2012 [YR2012]'] = pd.to_numeric(df_gdp['2012 [YR2012]'],errors='coerce')\n",
    "df_gdp['2013 [YR2013]'] = pd.to_numeric(df_gdp['2013 [YR2013]'],errors='coerce')\n",
    "df_gdp['2014 [YR2014]'] = pd.to_numeric(df_gdp['2014 [YR2014]'],errors='coerce')\n",
    "df_gdp['2015 [YR2015]'] = pd.to_numeric(df_gdp['2015 [YR2015]'],errors='coerce')\n",
    "df_gdp['2016 [YR2016]'] = pd.to_numeric(df_gdp['2016 [YR2016]'],errors='coerce')\n",
    "df_gdp['2017 [YR2017]'] = pd.to_numeric(df_gdp['2017 [YR2017]'],errors='coerce')\n",
    "df_gdp['2018 [YR2018]'] = pd.to_numeric(df_gdp['2018 [YR2018]'],errors='coerce')\n",
    "\n",
    "df_gdp['GDP Sum'] = df_gdp.iloc[:,-9:-2].sum(axis=1)\n",
    "df_gdp = df_gdp[['ISO_A3','GDP Sum']]\n",
    "\n",
    "#add the gdp data to the brazilian dataframe\n",
    "df_brazil_q5_by_qimporter = df_brazil_q5_by_qimporter.merge(df_gdp,left_on='ISO_A3',right_on='ISO_A3')\n",
    "df_brazil_q5_by_qimporter['Log GDP'] = np.log2(df_brazil_q5_by_qimporter['GDP Sum'].replace(0,np.nan))\n",
    "\n",
    "#run the ols regression\n",
    "result_gdp = mt.reg(df_brazil_q5_by_qimporter,'Log Total Quantity',['Ones','Log Distance','Log GDP'])\n",
    "result_gdp"
   ]
  },
  {
   "cell_type": "markdown",
   "metadata": {},
   "source": [
    "With GDP in the regression, the parameter for distance changes to negative. This matches the intuition that distance should negatively affect trade quantity between countries."
   ]
  },
  {
   "cell_type": "markdown",
   "metadata": {},
   "source": [
    "## Question 6"
   ]
  },
  {
   "cell_type": "markdown",
   "metadata": {},
   "source": [
    "The intuition is that perishable goods like foodstuffs and vegatable products are most sensitive to distance. It would be great to have data on the primary mode of transportation as well as how long it takes to travel for each 6-digit product between 2 countries. Also, perhaps one could incorporte data on how long it takes for a product to expire. I would join the datasets together on the 6-digit product code and run regression on quantity-distance for those goods that are easily perished and require long travel time. I suspect the result will show a strong negative correlation between quantity and distance for those goods."
   ]
  }
 ],
 "metadata": {
  "kernelspec": {
   "display_name": "Python 3",
   "language": "python",
   "name": "python3"
  },
  "language_info": {
   "codemirror_mode": {
    "name": "ipython",
    "version": 3
   },
   "file_extension": ".py",
   "mimetype": "text/x-python",
   "name": "python",
   "nbconvert_exporter": "python",
   "pygments_lexer": "ipython3",
   "version": "3.8.5"
  }
 },
 "nbformat": 4,
 "nbformat_minor": 4
}
